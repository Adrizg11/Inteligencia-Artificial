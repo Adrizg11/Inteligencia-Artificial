{
  "nbformat": 4,
  "nbformat_minor": 0,
  "metadata": {
    "colab": {
      "provenance": [],
      "include_colab_link": true
    },
    "kernelspec": {
      "name": "python3",
      "display_name": "Python 3"
    },
    "language_info": {
      "name": "python"
    }
  },
  "cells": [
    {
      "cell_type": "markdown",
      "metadata": {
        "id": "view-in-github",
        "colab_type": "text"
      },
      "source": [
        "<a href=\"https://colab.research.google.com/github/Adrizg11/Inteligencia-Artificial/blob/main/Nunpy_library.ipynb\" target=\"_parent\"><img src=\"https://colab.research.google.com/assets/colab-badge.svg\" alt=\"Open In Colab\"/></a>"
      ]
    },
    {
      "cell_type": "code",
      "execution_count": 2,
      "metadata": {
        "colab": {
          "base_uri": "https://localhost:8080/"
        },
        "id": "ZbNFsOD22J65",
        "outputId": "8f297e36-5ec3-4163-efb9-be4995f5efb0"
      },
      "outputs": [
        {
          "output_type": "stream",
          "name": "stdout",
          "text": [
            "[[2 4 8 9]\n",
            " [2 9 1 2]\n",
            " [5 2 6 1]]\n",
            "[[10 10  5  4]\n",
            " [ 7 10  9  9]\n",
            " [ 4  4  5  3]]\n",
            "(3, 4)\n",
            "(3, 4)\n",
            "adding numbers\n",
            "[[12 14 13 13]\n",
            " [ 9 19 10 11]\n",
            " [ 9  6 11  4]]\n",
            "substracting numbers\n",
            "[[-8 -6  3  5]\n",
            " [-5 -1 -8 -7]\n",
            " [ 1 -2  1 -2]]\n",
            "multiply numbers\n",
            "[[20 40 40 36]\n",
            " [14 90  9 18]\n",
            " [20  8 30  3]]\n",
            "[[12 14 13 13]\n",
            " [ 9 19 10 11]\n",
            " [ 9  6 11  4]]\n",
            "[[20 40 40 36]\n",
            " [14 90  9 18]\n",
            " [20  8 30  3]]\n",
            "[[0.2        0.4        1.6        2.25      ]\n",
            " [0.28571429 0.9        0.11111111 0.22222222]\n",
            " [1.25       0.5        1.2        0.33333333]]\n"
          ]
        }
      ],
      "source": [
        "import numpy as np\n",
        "a=np.random.randint(1,11,size=(3,4))\n",
        "b=np.random.randint(1,11,size=(3,4))\n",
        "print(a)\n",
        "print(b)\n",
        "print(a.shape)\n",
        "print(b.shape)\n",
        "print('adding numbers')\n",
        "print(a+b)\n",
        "print('substracting numbers')\n",
        "print(a-b)\n",
        "print('multiply numbers')\n",
        "print(a*b)\n",
        "\n",
        "print(np.add(a,b))\n",
        "print(np.multiply(a,b))\n",
        "print(np.divide(a,b))"
      ]
    },
    {
      "cell_type": "code",
      "source": [
        "a=np.random.randint(1,11,size=(2,3))\n",
        "b=np.random.randint(1,11,size=(3,4))\n",
        "print(a)\n",
        "print(b)\n",
        "print(np.dot(a,b))\n",
        "print(a.dot(b))"
      ],
      "metadata": {
        "colab": {
          "base_uri": "https://localhost:8080/"
        },
        "id": "-Ej4Sz259g-O",
        "outputId": "5469dfff-fa5b-4a33-8e0c-7aee18ab55d7"
      },
      "execution_count": 3,
      "outputs": [
        {
          "output_type": "stream",
          "name": "stdout",
          "text": [
            "[[ 4  7  6]\n",
            " [10  2  5]]\n",
            "[[ 2  1  4  7]\n",
            " [ 4  7  9 10]\n",
            " [ 6  4  7  3]]\n",
            "[[ 72  77 121 116]\n",
            " [ 58  44  93 105]]\n",
            "[[ 72  77 121 116]\n",
            " [ 58  44  93 105]]\n"
          ]
        }
      ]
    },
    {
      "cell_type": "code",
      "source": [
        "a=np.random.randint(1,11,size=(2,2))\n",
        "print(a.shape)\n",
        "print(type(a))\n",
        "print(a)\n",
        "print(a.T)"
      ],
      "metadata": {
        "colab": {
          "base_uri": "https://localhost:8080/"
        },
        "id": "VJVfihSH_FJF",
        "outputId": "6974cb4e-959e-4cf1-c1e5-07b80e1fe3d5"
      },
      "execution_count": 4,
      "outputs": [
        {
          "output_type": "stream",
          "name": "stdout",
          "text": [
            "(2, 2)\n",
            "<class 'numpy.ndarray'>\n",
            "[[ 2 10]\n",
            " [ 1  5]]\n",
            "[[ 2  1]\n",
            " [10  5]]\n"
          ]
        }
      ]
    },
    {
      "cell_type": "code",
      "source": [
        "a=np.random.randint(1,11,size=(4,3))\n",
        "b=np.array([1,0,2])\n",
        "print(a.shape)\n",
        "print(b.shape)\n",
        "\n",
        "c=np.empty_like(a)\n",
        "print(a)\n",
        "print(b)\n",
        "print(c.shape)\n",
        "print('------------------')\n",
        "print(c)\n",
        "\n"
      ],
      "metadata": {
        "colab": {
          "base_uri": "https://localhost:8080/"
        },
        "id": "Cc82XcP2_-eG",
        "outputId": "2f0c864d-90ae-4a31-9bd5-eb027f766302"
      },
      "execution_count": 6,
      "outputs": [
        {
          "output_type": "stream",
          "name": "stdout",
          "text": [
            "(4, 3)\n",
            "(3,)\n",
            "[[10  8  1]\n",
            " [ 3  1  8]\n",
            " [ 5  5  1]\n",
            " [ 5 10  2]]\n",
            "[1 0 2]\n",
            "(4, 3)\n",
            "------------------\n",
            "[[10  4  8]\n",
            " [ 1  8 10]\n",
            " [ 8  6  9]\n",
            " [ 8  3  8]]\n"
          ]
        }
      ]
    },
    {
      "cell_type": "code",
      "source": [
        "for i in range(4):\n",
        "  c[i,:]=a[i,:]+b\n",
        "\n",
        "print(a)\n",
        "print(b)\n",
        "print(c)\n",
        "print('------------------')\n",
        "c=a+b\n",
        "print(c)"
      ],
      "metadata": {
        "colab": {
          "base_uri": "https://localhost:8080/"
        },
        "id": "8jFpOVOpA_dW",
        "outputId": "a51a683e-26df-4d8a-93de-6b78592ea9bd"
      },
      "execution_count": 8,
      "outputs": [
        {
          "output_type": "stream",
          "name": "stdout",
          "text": [
            "[[10  8  1]\n",
            " [ 3  1  8]\n",
            " [ 5  5  1]\n",
            " [ 5 10  2]]\n",
            "[1 0 2]\n",
            "[[11  8  3]\n",
            " [ 4  1 10]\n",
            " [ 6  5  3]\n",
            " [ 6 10  4]]\n",
            "------------------\n",
            "[[11  8  3]\n",
            " [ 4  1 10]\n",
            " [ 6  5  3]\n",
            " [ 6 10  4]]\n"
          ]
        }
      ]
    },
    {
      "cell_type": "code",
      "source": [
        "a=np.array([1,2,3])\n",
        "\n",
        "\n",
        "#print(a)\n",
        "\n",
        "\n",
        "tmp=np.tile(a,(6,1))\n",
        "print(tmp)"
      ],
      "metadata": {
        "colab": {
          "base_uri": "https://localhost:8080/"
        },
        "id": "afpE_UBWDMnl",
        "outputId": "b837d409-de49-4fd6-e4fd-93bdbaa44d86"
      },
      "execution_count": 9,
      "outputs": [
        {
          "output_type": "stream",
          "name": "stdout",
          "text": [
            "[[1 2 3]\n",
            " [1 2 3]\n",
            " [1 2 3]\n",
            " [1 2 3]\n",
            " [1 2 3]\n",
            " [1 2 3]]\n"
          ]
        }
      ]
    },
    {
      "cell_type": "code",
      "source": [
        "matriz = np.random.randint(0, 10, size=(6, 6))\n",
        "print(matriz)\n",
        "\n",
        "aux=np.mean(matriz)\n",
        "print(aux)\n",
        "print('------------------')\n",
        "matriz = np.random.randint(0, 10, size=(6, 6))\n",
        "print(matriz)\n",
        "print('------------------')\n",
        "promedio_por_filas = np.mean(matriz, axis=1)\n",
        "print(\"\\nEl promedio por filas de la matriz es:\")\n",
        "print(promedio_por_filas)"
      ],
      "metadata": {
        "colab": {
          "base_uri": "https://localhost:8080/"
        },
        "id": "16V5r7MTGU5t",
        "outputId": "84f8e6c9-f41c-4618-f4e4-364c754c6b4a"
      },
      "execution_count": 17,
      "outputs": [
        {
          "output_type": "stream",
          "name": "stdout",
          "text": [
            "[[3 4 4 1 2 2]\n",
            " [9 1 3 6 8 3]\n",
            " [1 6 1 5 7 1]\n",
            " [6 3 5 8 1 5]\n",
            " [2 9 1 6 6 3]\n",
            " [2 7 6 2 5 9]]\n",
            "4.25\n",
            "------------------\n",
            "[[1 9 1 3 2 8]\n",
            " [5 4 8 6 0 4]\n",
            " [6 6 0 5 8 1]\n",
            " [7 2 9 8 3 5]\n",
            " [5 2 6 0 7 8]\n",
            " [4 9 0 9 3 8]]\n",
            "------------------\n",
            "\n",
            "El promedio por filas de la matriz es:\n",
            "[4.         4.5        4.33333333 5.66666667 4.66666667 5.5       ]\n"
          ]
        }
      ]
    },
    {
      "cell_type": "code",
      "source": [
        "matrix_a = np.array([[1, 2], [3, 4]])\n",
        "matrix_b = np.array([[5, 6], [7, 8]])\n",
        "matrix_product = np.dot(matrix_a, matrix_b)\n",
        "\n",
        "arr = np.array([1, 2, 3])\n",
        "squared_arr = np.square(arr)"
      ],
      "metadata": {
        "id": "xXLRyNW_oQ_3"
      },
      "execution_count": 18,
      "outputs": []
    },
    {
      "cell_type": "code",
      "source": [
        "print(squared_arr)"
      ],
      "metadata": {
        "colab": {
          "base_uri": "https://localhost:8080/"
        },
        "id": "BxlZdbpOof5A",
        "outputId": "1c09aa59-d532-40e1-daba-d5b2ed9e4ac3"
      },
      "execution_count": 19,
      "outputs": [
        {
          "output_type": "stream",
          "name": "stdout",
          "text": [
            "[1 4 9]\n"
          ]
        }
      ]
    },
    {
      "cell_type": "code",
      "source": [
        "# Broadcasting con arrays de diferentes dimensiones\n",
        "arr_2d = np.array([[1, 2, 3], [4, 5, 6]])\n",
        "arr_1d = np.array([10, 20, 30])\n",
        "result_broadcasting = arr_2d + arr_1d\n",
        "\n",
        "print(\"Resultado del Broadcasting:\")\n",
        "print(result_broadcasting)\n",
        "\n",
        "# Concatenación de arrays a lo largo de diferentes ejes\n",
        "arr_a = np.array([[1, 2], [3, 4]])\n",
        "arr_b = np.array([[5, 6]])\n",
        "concatenated_arr = np.concatenate((arr_a, arr_b.T), axis=1)\n",
        "\n",
        "print(\"\\nResultado de la Concatenación:\")\n",
        "print(concatenated_arr)"
      ],
      "metadata": {
        "colab": {
          "base_uri": "https://localhost:8080/"
        },
        "id": "wMqPBi3Np0Zc",
        "outputId": "2aa234cf-8723-4e69-c491-ec797cea2570"
      },
      "execution_count": 21,
      "outputs": [
        {
          "output_type": "stream",
          "name": "stdout",
          "text": [
            "Resultado del Broadcasting:\n",
            "[[11 22 33]\n",
            " [14 25 36]]\n",
            "\n",
            "Resultado de la Concatenación:\n",
            "[[1 2 5]\n",
            " [3 4 6]]\n"
          ]
        }
      ]
    }
  ]
}