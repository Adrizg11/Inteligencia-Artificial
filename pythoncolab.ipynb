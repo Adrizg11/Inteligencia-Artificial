{
  "nbformat": 4,
  "nbformat_minor": 0,
  "metadata": {
    "colab": {
      "provenance": [],
      "include_colab_link": true
    },
    "kernelspec": {
      "name": "python3",
      "display_name": "Python 3"
    },
    "language_info": {
      "name": "python"
    }
  },
  "cells": [
    {
      "cell_type": "markdown",
      "metadata": {
        "id": "view-in-github",
        "colab_type": "text"
      },
      "source": [
        "<a href=\"https://colab.research.google.com/github/Adrizg11/Inteligencia-Artificial/blob/main/pythoncolab.ipynb\" target=\"_parent\"><img src=\"https://colab.research.google.com/assets/colab-badge.svg\" alt=\"Open In Colab\"/></a>"
      ]
    },
    {
      "cell_type": "code",
      "execution_count": 1,
      "metadata": {
        "colab": {
          "base_uri": "https://localhost:8080/"
        },
        "id": "8vCzCW0NRzJ4",
        "outputId": "808406a6-8e91-4374-c46f-c65226dfbd30"
      },
      "outputs": [
        {
          "output_type": "stream",
          "name": "stdout",
          "text": [
            "Python 3.10.12\n"
          ]
        }
      ],
      "source": [
        "!python --version\n"
      ]
    },
    {
      "cell_type": "code",
      "source": [
        "myVariable_1=4\n",
        "myVariable_2=6\n",
        "\n",
        "print(myVariable_1+myVariable_2)\n",
        "print(myVariable_1-myVariable_2)\n",
        "print(myVariable_1*myVariable_2)\n",
        "print(myVariable_1**myVariable_2)\n",
        "print(myVariable_1/myVariable_2)"
      ],
      "metadata": {
        "colab": {
          "base_uri": "https://localhost:8080/"
        },
        "id": "0pgpocJ3R8cP",
        "outputId": "b4f675c4-126e-46f0-ab43-dd60ff92d93d"
      },
      "execution_count": 2,
      "outputs": [
        {
          "output_type": "stream",
          "name": "stdout",
          "text": [
            "10\n",
            "-2\n",
            "24\n",
            "4096\n",
            "0.6666666666666666\n"
          ]
        }
      ]
    },
    {
      "cell_type": "code",
      "source": [
        "aux1=True\n",
        "aux2=False\n",
        "\n",
        "print(aux1 and aux2)\n",
        "print(aux1 or aux2)\n",
        "print(not aux1)"
      ],
      "metadata": {
        "colab": {
          "base_uri": "https://localhost:8080/"
        },
        "id": "AJja-5OSSxjA",
        "outputId": "f51faa0a-f047-401c-a35e-a83ba8d77b83"
      },
      "execution_count": null,
      "outputs": [
        {
          "output_type": "stream",
          "name": "stdout",
          "text": [
            "False\n",
            "True\n",
            "False\n"
          ]
        }
      ]
    },
    {
      "cell_type": "code",
      "source": [
        "myNameIS='Adriana'\n",
        "print(myNameIS)\n",
        "\n",
        "print(myNameIS.upper())\n",
        "print(myNameIS.lower())\n",
        "print(myNameIS.upper())"
      ],
      "metadata": {
        "colab": {
          "base_uri": "https://localhost:8080/"
        },
        "id": "elPAQUFdTYJY",
        "outputId": "7e1e0b0c-c664-4107-cf2e-709d9d7c8842"
      },
      "execution_count": 3,
      "outputs": [
        {
          "output_type": "stream",
          "name": "stdout",
          "text": [
            "Adriana\n",
            "ADRIANA\n",
            "adriana\n",
            "ADRIANA\n"
          ]
        }
      ]
    },
    {
      "cell_type": "code",
      "source": [
        "tmp='Jennifer, Ameli,  Salome'\n",
        "print(tmp)\n",
        "print(tmp.split(','))"
      ],
      "metadata": {
        "colab": {
          "base_uri": "https://localhost:8080/"
        },
        "id": "vW8tuPp6UqgP",
        "outputId": "2cea58b0-a8ed-43de-f62c-e20c92bdf634"
      },
      "execution_count": 5,
      "outputs": [
        {
          "output_type": "stream",
          "name": "stdout",
          "text": [
            "Jennifer, Ameli,  Salome\n",
            "['Jennifer', ' Ameli', '  Salome']\n"
          ]
        }
      ]
    },
    {
      "cell_type": "code",
      "source": [
        "scholaList=['notebook', 'pen', 'ruler', 'eraser', 'pencil']\n",
        "print(scholaList)\n",
        "scholaList.append('computer')\n",
        "print(scholaList)\n",
        "#print(scholaList[3])\n",
        "#scholaList.pop(3)\n",
        "del scholaList[3]\n",
        "print(scholaList)\n"
      ],
      "metadata": {
        "colab": {
          "base_uri": "https://localhost:8080/"
        },
        "id": "4Qd053kHVpxg",
        "outputId": "7f31309f-698e-4af1-873e-9741f264776c"
      },
      "execution_count": null,
      "outputs": [
        {
          "output_type": "stream",
          "name": "stdout",
          "text": [
            "['notebook', 'pen', 'ruler', 'eraser', 'pencil']\n",
            "['notebook', 'pen', 'ruler', 'eraser', 'pencil', 'computer']\n",
            "['notebook', 'pen', 'ruler', 'pencil', 'computer']\n"
          ]
        }
      ]
    },
    {
      "cell_type": "code",
      "source": [
        "myList=list(range(15))\n",
        "print(myList)\n",
        "print(myList[4:11])\n",
        "print(myList[-5])"
      ],
      "metadata": {
        "colab": {
          "base_uri": "https://localhost:8080/"
        },
        "id": "5Hogy7AaYzzW",
        "outputId": "9510c5f0-f1a9-4b6f-be89-b16a17faefe0"
      },
      "execution_count": 6,
      "outputs": [
        {
          "output_type": "stream",
          "name": "stdout",
          "text": [
            "[0, 1, 2, 3, 4, 5, 6, 7, 8, 9, 10, 11, 12, 13, 14]\n",
            "[4, 5, 6, 7, 8, 9, 10]\n",
            "10\n"
          ]
        }
      ]
    },
    {
      "cell_type": "code",
      "source": [
        "myDiccionario={'cat': 'cute', 'dog': 'fat' , 'lion': 'strong'}\n",
        "\n",
        "print(type(myDiccionario))\n",
        "\n",
        "\n",
        "for key, value in myDiccionario.items():\n",
        "  print(key,value)\n",
        "  print(f' key {key}, value {value}')\n",
        "  print('key %s, value %s'%(key,value))\n",
        "  #print('the key is: {} and the value: {}'.format(key, value))\n",
        "  #myDiccionario['monkey']='so cute'\n",
        "  print('----------------')\n",
        "  print(myDiccionario)"
      ],
      "metadata": {
        "colab": {
          "base_uri": "https://localhost:8080/"
        },
        "id": "YLn8NoQYT2Zy",
        "outputId": "3e998916-c38a-417a-b9fd-e36c2881154e"
      },
      "execution_count": 7,
      "outputs": [
        {
          "output_type": "stream",
          "name": "stdout",
          "text": [
            "<class 'dict'>\n",
            "cat cute\n",
            " key cat, value cute\n",
            "key cat, value cute\n",
            "----------------\n",
            "{'cat': 'cute', 'dog': 'fat', 'lion': 'strong'}\n",
            "dog fat\n",
            " key dog, value fat\n",
            "key dog, value fat\n",
            "----------------\n",
            "{'cat': 'cute', 'dog': 'fat', 'lion': 'strong'}\n",
            "lion strong\n",
            " key lion, value strong\n",
            "key lion, value strong\n",
            "----------------\n",
            "{'cat': 'cute', 'dog': 'fat', 'lion': 'strong'}\n"
          ]
        }
      ]
    },
    {
      "cell_type": "code",
      "source": [
        "tmp=list()\n",
        "for i in range(1, 101, 1):\n",
        "  if i%2==0:\n",
        "    tmp.append(i)\n",
        "print(tmp)\n",
        "print('----------------')\n",
        "aux=[i for i in range (1, 101) if i%2==0]\n",
        "print(aux)"
      ],
      "metadata": {
        "colab": {
          "base_uri": "https://localhost:8080/"
        },
        "id": "xOOqoV-uT38D",
        "outputId": "7d1c2eb8-25b0-4237-dfbb-161f18338e7d"
      },
      "execution_count": 8,
      "outputs": [
        {
          "output_type": "stream",
          "name": "stdout",
          "text": [
            "[2, 4, 6, 8, 10, 12, 14, 16, 18, 20, 22, 24, 26, 28, 30, 32, 34, 36, 38, 40, 42, 44, 46, 48, 50, 52, 54, 56, 58, 60, 62, 64, 66, 68, 70, 72, 74, 76, 78, 80, 82, 84, 86, 88, 90, 92, 94, 96, 98, 100]\n",
            "----------------\n",
            "[2, 4, 6, 8, 10, 12, 14, 16, 18, 20, 22, 24, 26, 28, 30, 32, 34, 36, 38, 40, 42, 44, 46, 48, 50, 52, 54, 56, 58, 60, 62, 64, 66, 68, 70, 72, 74, 76, 78, 80, 82, 84, 86, 88, 90, 92, 94, 96, 98, 100]\n"
          ]
        }
      ]
    },
    {
      "cell_type": "code",
      "source": [
        "tmpList=[i**2 for i in range(1, 101 ) if i%2==0]\n",
        "print(tmpList)"
      ],
      "metadata": {
        "colab": {
          "base_uri": "https://localhost:8080/"
        },
        "id": "FO4h2PGxT7Mc",
        "outputId": "94272f65-364e-427b-eb9c-3b965e8b3c9c"
      },
      "execution_count": 9,
      "outputs": [
        {
          "output_type": "stream",
          "name": "stdout",
          "text": [
            "[4, 16, 36, 64, 100, 144, 196, 256, 324, 400, 484, 576, 676, 784, 900, 1024, 1156, 1296, 1444, 1600, 1764, 1936, 2116, 2304, 2500, 2704, 2916, 3136, 3364, 3600, 3844, 4096, 4356, 4624, 4900, 5184, 5476, 5776, 6084, 6400, 6724, 7056, 7396, 7744, 8100, 8464, 8836, 9216, 9604, 10000]\n"
          ]
        }
      ]
    }
  ]
}