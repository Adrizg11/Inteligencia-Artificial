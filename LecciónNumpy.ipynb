{
  "nbformat": 4,
  "nbformat_minor": 0,
  "metadata": {
    "colab": {
      "provenance": [],
      "include_colab_link": true
    },
    "kernelspec": {
      "name": "python3",
      "display_name": "Python 3"
    },
    "language_info": {
      "name": "python"
    }
  },
  "cells": [
    {
      "cell_type": "markdown",
      "metadata": {
        "id": "view-in-github",
        "colab_type": "text"
      },
      "source": [
        "<a href=\"https://colab.research.google.com/github/Adrizg11/Inteligencia-Artificial/blob/main/Lecci%C3%B3nNumpy.ipynb\" target=\"_parent\"><img src=\"https://colab.research.google.com/assets/colab-badge.svg\" alt=\"Open In Colab\"/></a>"
      ]
    },
    {
      "cell_type": "code",
      "execution_count": 25,
      "metadata": {
        "id": "r5TPo1O589Hy"
      },
      "outputs": [],
      "source": [
        "# Create a 1D array of numbers from 0 to 9\n",
        "# your code here\n",
        "import numpy as np\n",
        "\n",
        "pass"
      ]
    },
    {
      "cell_type": "code",
      "source": [
        "# Create random vector of size 10 and replace the maximum value by 0lista=list(range(9))\n",
        "random_vector = np.random.rand(10)\n",
        "max_index = np.argmax(random_vector)\n",
        "random_vector[max_index] = 0\n",
        "\n",
        "print(\"Original random vector:\", random_vector)\n"
      ],
      "metadata": {
        "colab": {
          "base_uri": "https://localhost:8080/"
        },
        "id": "89CZ2hKl9FrK",
        "outputId": "b027844a-5ac9-47f4-b080-ebdd66db723a"
      },
      "execution_count": 26,
      "outputs": [
        {
          "output_type": "stream",
          "name": "stdout",
          "text": [
            "Original random vector: [0.62994503 0.4485295  0.26359272 0.         0.84680684 0.00935069\n",
            " 0.81820842 0.88218659 0.79120107 0.20971665]\n"
          ]
        }
      ]
    },
    {
      "cell_type": "code",
      "source": [
        "vector = np.random.rand(10)\n",
        "vector[vector.argmax()] = 0\n",
        "print(vector)\n",
        "\n",
        "pass"
      ],
      "metadata": {
        "colab": {
          "base_uri": "https://localhost:8080/"
        },
        "id": "H_0UPaH99Nvl",
        "outputId": "cd6be2a6-0534-4f75-9ab4-ac2532731f2e"
      },
      "execution_count": 27,
      "outputs": [
        {
          "output_type": "stream",
          "name": "stdout",
          "text": [
            "[0.83029321 0.         0.01347913 0.29139425 0.52668096 0.32489949\n",
            " 0.01121362 0.45290155 0.40871181 0.14648902]\n"
          ]
        }
      ]
    },
    {
      "cell_type": "code",
      "source": [
        "# Print the number 8 from the array below:\n",
        "arr = np.array([[1,2,3,4,5], [6,7,8,9,10]])\n",
        "print(arr[1, 2])\n",
        "\n",
        "pass"
      ],
      "metadata": {
        "colab": {
          "base_uri": "https://localhost:8080/"
        },
        "id": "cXzBSkYf9WYh",
        "outputId": "d17235d3-9214-4586-91d0-b3ea09958fa9"
      },
      "execution_count": 28,
      "outputs": [
        {
          "output_type": "stream",
          "name": "stdout",
          "text": [
            "8\n"
          ]
        }
      ]
    },
    {
      "cell_type": "code",
      "source": [
        "# Print the numbers [3, 4, 5] from the array below:\n",
        "arr = np.array([1,2,3,4,5,6,7])\n",
        "print(arr[2:5])\n",
        "pass"
      ],
      "metadata": {
        "colab": {
          "base_uri": "https://localhost:8080/"
        },
        "id": "KyPwyvXT9byH",
        "outputId": "8dd0b2ab-c0d1-45fb-a293-80349c1a0bf9"
      },
      "execution_count": 29,
      "outputs": [
        {
          "output_type": "stream",
          "name": "stdout",
          "text": [
            "[3 4 5]\n"
          ]
        }
      ]
    },
    {
      "cell_type": "code",
      "source": [
        "# Print the last 4 numbers from the array below:\n",
        "arr = np.array([1,2,3,4,5,6,7])\n",
        "print(arr[3:])\n",
        "pass"
      ],
      "metadata": {
        "colab": {
          "base_uri": "https://localhost:8080/"
        },
        "id": "G7jec6hg998O",
        "outputId": "542cce69-1abf-4037-aecc-32e2f6b17f3e"
      },
      "execution_count": 30,
      "outputs": [
        {
          "output_type": "stream",
          "name": "stdout",
          "text": [
            "[4 5 6 7]\n"
          ]
        }
      ]
    },
    {
      "cell_type": "code",
      "source": [
        "# Create a 3×3 numpy array of all True’s\n",
        "tmp=10*np.random.random((4,4))\n",
        "mascara=tmp>0\n",
        "print(tmp)\n",
        "print(\"-------------------\")\n",
        "print(mascara)\n",
        "pass"
      ],
      "metadata": {
        "colab": {
          "base_uri": "https://localhost:8080/"
        },
        "id": "ToQEV4aQ-B88",
        "outputId": "2b9f0b1d-54b4-4841-bb17-38bf0539191c"
      },
      "execution_count": 31,
      "outputs": [
        {
          "output_type": "stream",
          "name": "stdout",
          "text": [
            "[[1.9637841  1.2080923  5.00124388 0.32074698]\n",
            " [2.78552239 2.18499009 4.11612571 4.74482509]\n",
            " [2.54111149 1.19526299 1.45062556 5.14477024]\n",
            " [8.53555213 5.04913552 4.83865599 7.85520509]]\n",
            "-------------------\n",
            "[[ True  True  True  True]\n",
            " [ True  True  True  True]\n",
            " [ True  True  True  True]\n",
            " [ True  True  True  True]]\n"
          ]
        }
      ]
    },
    {
      "cell_type": "code",
      "source": [
        "# Extract all odd numbers from arr\n",
        "tmp = np.random.randint(1, 11, size=(4, 4))\n",
        "print(tmp)\n",
        "\n",
        "print('----------------------------------')\n",
        "\n",
        "mask = np.mod(tmp, 2) == 0\n",
        "print(tmp[mask])\n",
        "pass\n"
      ],
      "metadata": {
        "colab": {
          "base_uri": "https://localhost:8080/"
        },
        "id": "SggvHHB0-Gbo",
        "outputId": "86d3a2cd-8e58-4edb-89a4-0a8c09e8c299"
      },
      "execution_count": 32,
      "outputs": [
        {
          "output_type": "stream",
          "name": "stdout",
          "text": [
            "[[ 7  4  4  3]\n",
            " [ 2  5  3  3]\n",
            " [ 4  4 10  8]\n",
            " [ 4  3  4  1]]\n",
            "----------------------------------\n",
            "[ 4  4  2  4  4 10  8  4  4]\n"
          ]
        }
      ]
    },
    {
      "cell_type": "code",
      "source": [
        "# Create a vector with values ranging from 10 to 49 (★☆☆)\n",
        "tmp = np.arange(10,50)\n",
        "print(tmp)\n",
        "pass"
      ],
      "metadata": {
        "colab": {
          "base_uri": "https://localhost:8080/"
        },
        "id": "xn5DE2fy-SKx",
        "outputId": "6f4b847c-9655-4a68-fec4-6586822170f8"
      },
      "execution_count": 33,
      "outputs": [
        {
          "output_type": "stream",
          "name": "stdout",
          "text": [
            "[10 11 12 13 14 15 16 17 18 19 20 21 22 23 24 25 26 27 28 29 30 31 32 33\n",
            " 34 35 36 37 38 39 40 41 42 43 44 45 46 47 48 49]\n"
          ]
        }
      ]
    },
    {
      "cell_type": "code",
      "source": [
        "# Reverse a vector (first element becomes last)\n",
        "vectorInvertido = tmp[::-1]\n",
        "print(vectorInvertido)\n",
        "pass"
      ],
      "metadata": {
        "colab": {
          "base_uri": "https://localhost:8080/"
        },
        "id": "pZ7EzAk--YRL",
        "outputId": "d0f480d6-10b3-4aff-915c-71c38a1e530a"
      },
      "execution_count": 34,
      "outputs": [
        {
          "output_type": "stream",
          "name": "stdout",
          "text": [
            "[49 48 47 46 45 44 43 42 41 40 39 38 37 36 35 34 33 32 31 30 29 28 27 26\n",
            " 25 24 23 22 21 20 19 18 17 16 15 14 13 12 11 10]\n"
          ]
        }
      ]
    },
    {
      "cell_type": "code",
      "source": [
        "#  Create a 10x10 array with random integer values and find the minimum and maximum values\n",
        "tmp = np.random.randint(1, 101, size=(10, 10))\n",
        "minimo = np.min(tmp)\n",
        "maximo = np.max(tmp)\n",
        "print(\"Matriz\")\n",
        "print(tmp)\n",
        "print(\"Minimo\")\n",
        "print(minimo)\n",
        "print(\"Maximo\")\n",
        "print(maximo)\n",
        "pass"
      ],
      "metadata": {
        "colab": {
          "base_uri": "https://localhost:8080/"
        },
        "id": "NDAZoKfB-a2f",
        "outputId": "8bfb0870-53f9-460e-c655-bae5f6b1fcb9"
      },
      "execution_count": 35,
      "outputs": [
        {
          "output_type": "stream",
          "name": "stdout",
          "text": [
            "Matriz\n",
            "[[ 72  78  94  82  46   1   5  45  47  83]\n",
            " [ 41  15  39  88  12  80  10  82  69  73]\n",
            " [ 48  28  26  57   1  35  10  19  58   1]\n",
            " [ 39  84  69  16  66  26  52  11  75  75]\n",
            " [ 20  66  81  59   3  77   5  28  13 100]\n",
            " [ 63  22  22  19  53  44  58  13  41  73]\n",
            " [ 62  77   5   8  62   8  45  52   7   6]\n",
            " [ 38  47  58  64   8  55  14  54  40  99]\n",
            " [ 77  26  58  96  84 100  81  62  35  84]\n",
            " [ 91  72  82  82  56  96  70  68  42  38]]\n",
            "Minimo\n",
            "1\n",
            "Maximo\n",
            "100\n"
          ]
        }
      ]
    },
    {
      "cell_type": "code",
      "source": [
        "# Create a 3x3x3 array with random values\n",
        "tmp2 = np.random.random((3,3,3))\n",
        "print(tmp2)\n",
        "pass"
      ],
      "metadata": {
        "colab": {
          "base_uri": "https://localhost:8080/"
        },
        "id": "5EUPp6QQ-dPa",
        "outputId": "2a0c3609-eb94-4c02-f1b4-5267f7abe2fe"
      },
      "execution_count": 36,
      "outputs": [
        {
          "output_type": "stream",
          "name": "stdout",
          "text": [
            "[[[0.64608739 0.79873653 0.65357056]\n",
            "  [0.17349187 0.11827381 0.25154367]\n",
            "  [0.13343363 0.14740118 0.4495404 ]]\n",
            "\n",
            " [[0.27422975 0.13749434 0.88813096]\n",
            "  [0.34560967 0.05869343 0.31164085]\n",
            "  [0.06408743 0.2565369  0.39784725]]\n",
            "\n",
            " [[0.68309544 0.86151455 0.96475917]\n",
            "  [0.66177935 0.19123698 0.8735089 ]\n",
            "  [0.25658535 0.36365568 0.26414166]]]\n"
          ]
        }
      ]
    },
    {
      "cell_type": "code",
      "source": [
        "# Replace all odd numbers in arr with -1\n",
        "tmp = np.random.randint(1, 11, size=(3, 3, 3))\n",
        "print(tmp)\n",
        "print(\"-----------------\")\n",
        "tmp[tmp % 2 == 1] = -1\n",
        "print(tmp)\n",
        "pass"
      ],
      "metadata": {
        "colab": {
          "base_uri": "https://localhost:8080/"
        },
        "id": "eVcwozSI-jT6",
        "outputId": "9a17fd5f-5df1-4d78-f5dd-7e7d7b039b1a"
      },
      "execution_count": 37,
      "outputs": [
        {
          "output_type": "stream",
          "name": "stdout",
          "text": [
            "[[[ 8  1  5]\n",
            "  [10  9  4]\n",
            "  [ 9  7  3]]\n",
            "\n",
            " [[ 1  7  1]\n",
            "  [ 7  5  9]\n",
            "  [ 2  1  6]]\n",
            "\n",
            " [[ 1  6  7]\n",
            "  [ 5  5  9]\n",
            "  [ 3  5 10]]]\n",
            "-----------------\n",
            "[[[ 8 -1 -1]\n",
            "  [10 -1  4]\n",
            "  [-1 -1 -1]]\n",
            "\n",
            " [[-1 -1 -1]\n",
            "  [-1 -1 -1]\n",
            "  [ 2 -1  6]]\n",
            "\n",
            " [[-1  6 -1]\n",
            "  [-1 -1 -1]\n",
            "  [-1 -1 10]]]\n"
          ]
        }
      ]
    },
    {
      "cell_type": "code",
      "source": [
        "# Create an array of type float\n",
        "tmpF = np.random.rand(5)\n",
        "print(tmpF)\n",
        "pass"
      ],
      "metadata": {
        "colab": {
          "base_uri": "https://localhost:8080/"
        },
        "id": "rqErmUHa-uIO",
        "outputId": "85973637-12a8-41eb-9821-d9b414ae6d94"
      },
      "execution_count": 38,
      "outputs": [
        {
          "output_type": "stream",
          "name": "stdout",
          "text": [
            "[0.05984251 0.45846832 0.58821857 0.55003675 0.95110071]\n"
          ]
        }
      ]
    },
    {
      "cell_type": "code",
      "source": [
        "# Convert a 1D array to a 2D array with 2 rows\n",
        "lista = list(range(12))\n",
        "lista = np.array(lista)\n",
        "two_d_array = lista.reshape(2, 6)\n",
        "print(two_d_array)\n",
        "\n",
        "pass\n"
      ],
      "metadata": {
        "colab": {
          "base_uri": "https://localhost:8080/"
        },
        "id": "NS4rE6Bl-wj8",
        "outputId": "c63a893c-c28e-4564-ebe1-e4dd982cce71"
      },
      "execution_count": 39,
      "outputs": [
        {
          "output_type": "stream",
          "name": "stdout",
          "text": [
            "[[ 0  1  2  3  4  5]\n",
            " [ 6  7  8  9 10 11]]\n"
          ]
        }
      ]
    },
    {
      "cell_type": "code",
      "source": [
        "# How to find common values between two arrays?\n",
        "\n",
        "Z1 = np.random.randint(0,10,10)\n",
        "Z2 = np.random.randint(0,10,10)\n",
        "valoresComunes = np.intersect1d(Z1, Z2)\n",
        "print(Z1)\n",
        "print(\"-------------\")\n",
        "print(Z2)\n",
        "print(\"-------------\")\n",
        "print(valoresComunes)\n",
        "pass\n"
      ],
      "metadata": {
        "colab": {
          "base_uri": "https://localhost:8080/"
        },
        "id": "4RjKUPNf-2NY",
        "outputId": "f73d79f8-6968-4080-b146-3c961a79b9e9"
      },
      "execution_count": 40,
      "outputs": [
        {
          "output_type": "stream",
          "name": "stdout",
          "text": [
            "[8 7 5 7 9 6 3 0 2 8]\n",
            "-------------\n",
            "[0 7 8 6 2 3 5 0 8 8]\n",
            "-------------\n",
            "[0 2 3 5 6 7 8]\n"
          ]
        }
      ]
    },
    {
      "cell_type": "code",
      "source": [
        "#  Consider two random array A and B, check if they are equal\n",
        "\n",
        "A = np.random.randint(0,2,5)\n",
        "B = np.random.randint(0,2,5)\n",
        "\n",
        "print('Array A')\n",
        "print(A)\n",
        "print('Array B')\n",
        "print(B)\n",
        "\n",
        "if np.array_equal(A,B):\n",
        "  print('Son iguales')\n",
        "else:\n",
        "  print('Son diferentes')\n",
        "\n",
        "pass"
      ],
      "metadata": {
        "colab": {
          "base_uri": "https://localhost:8080/"
        },
        "id": "AlN9zHvh-68T",
        "outputId": "8dbbb981-a74b-4e6b-a213-ab96a00228cc"
      },
      "execution_count": 41,
      "outputs": [
        {
          "output_type": "stream",
          "name": "stdout",
          "text": [
            "Array A\n",
            "[1 1 1 0 1]\n",
            "Array B\n",
            "[0 0 0 0 1]\n",
            "Son diferentes\n"
          ]
        }
      ]
    },
    {
      "cell_type": "code",
      "source": [
        "# Stack arrays a and b vertically\n",
        "print('Array A')\n",
        "print(A)\n",
        "print('Array B')\n",
        "print(B)\n",
        "matrizApiladaVertical = np.vstack((A, B))\n",
        "print(\"Stacked Array:\")\n",
        "print(matrizApiladaVertical)\n",
        "pass"
      ],
      "metadata": {
        "colab": {
          "base_uri": "https://localhost:8080/"
        },
        "id": "cRgNBMbJ_AJ-",
        "outputId": "0d6068f2-d8fb-4caa-89e7-bd15acca208e"
      },
      "execution_count": 42,
      "outputs": [
        {
          "output_type": "stream",
          "name": "stdout",
          "text": [
            "Array A\n",
            "[1 1 1 0 1]\n",
            "Array B\n",
            "[0 0 0 0 1]\n",
            "Stacked Array:\n",
            "[[1 1 1 0 1]\n",
            " [0 0 0 0 1]]\n"
          ]
        }
      ]
    },
    {
      "cell_type": "code",
      "source": [
        "# Stack the arrays a and b horizontally.\n",
        "print('Array A')\n",
        "print(A)\n",
        "print('Array B')\n",
        "print(B)\n",
        "matrizApiladaHorizontal = np.hstack((A, B))\n",
        "print(\"Stacked Array:\")\n",
        "print(matrizApiladaHorizontal)\n",
        "pass"
      ],
      "metadata": {
        "colab": {
          "base_uri": "https://localhost:8080/"
        },
        "id": "kF9vGrJ4_CsX",
        "outputId": "5b30680a-1f6d-48c3-9560-ecb54c2a3ac1"
      },
      "execution_count": 43,
      "outputs": [
        {
          "output_type": "stream",
          "name": "stdout",
          "text": [
            "Array A\n",
            "[1 1 1 0 1]\n",
            "Array B\n",
            "[0 0 0 0 1]\n",
            "Stacked Array:\n",
            "[1 1 1 0 1 0 0 0 0 1]\n"
          ]
        }
      ]
    },
    {
      "cell_type": "code",
      "source": [
        "# Get all items between 5 and 10 from array tmp.\n",
        "# your code here\n",
        "import numpy as np\n",
        "tmp = np.arange(15)\n",
        "print(tmp)\n",
        "print('-------------')\n",
        "valores = tmp[(tmp>=5)&(tmp<=10)]\n",
        "print(valores)\n",
        "# pass"
      ],
      "metadata": {
        "colab": {
          "base_uri": "https://localhost:8080/"
        },
        "id": "q2D1JR7V_HL9",
        "outputId": "02375f55-6d04-4bd8-a71f-92199a3b8f24"
      },
      "execution_count": 44,
      "outputs": [
        {
          "output_type": "stream",
          "name": "stdout",
          "text": [
            "[ 0  1  2  3  4  5  6  7  8  9 10 11 12 13 14]\n",
            "-------------\n",
            "[ 5  6  7  8  9 10]\n"
          ]
        }
      ]
    },
    {
      "cell_type": "code",
      "source": [
        "# How to make a python function that handles scalars to work on numpy arrays?\n",
        "# Hint\n",
        "# Desired Output:\n",
        "# a = np.array([5, 7, 9, 8, 6, 4, 5])\n",
        "# b = np.array([6, 3, 4, 8, 9, 7, 1])\n",
        "# pair_max(a, b)\n",
        "# #> array([ 6.,  7.,  9.,  8.,  9.,  7.,  5.])\n",
        "\n",
        "\n",
        "\"\"\"Arrays\"\"\"\n",
        "# a = np.array([5, 7, 9, 8, 6, 4, 5])\n",
        "a = np.random.randint(1,10,7)\n",
        "print(\"Array A\")\n",
        "print(a)\n",
        "# b = np.array([6, 3, 4, 8, 9, 7, 1])\n",
        "b = np.random.randint(1,10,7)\n",
        "print(\"Array B\")\n",
        "print(b)\n",
        "\n",
        "print(\"----------------------------\")\n",
        "\n",
        "\"\"\"Method 1\"\"\"\n",
        "print(\"Method 1\")\n",
        "def parMax(a, b):\n",
        "    \"\"\"Get the element-wise maximum of two arrays\"\"\"\n",
        "    return np.maximum(a, b)\n",
        "\n",
        "c = parMax(a, b)\n",
        "print(c)\n",
        "\n",
        "print(\"----------------------------\")\n",
        "\n",
        "print(\"Method 2\")\n",
        "\"\"\"Method 2\"\"\"\n",
        "def maxx(x, y):\n",
        "    \"\"\"Get the maximum of two items\"\"\"\n",
        "    if x >= y:\n",
        "        return x\n",
        "    else:\n",
        "        return y\n",
        "\n",
        "c = np.array([maxx(x, y) for x, y in zip(a, b)])\n",
        "print(c)"
      ],
      "metadata": {
        "colab": {
          "base_uri": "https://localhost:8080/"
        },
        "id": "JLZznZ4u_Mzc",
        "outputId": "adb0e2f9-a3ff-4ebc-8b7f-80c0b825462e"
      },
      "execution_count": 45,
      "outputs": [
        {
          "output_type": "stream",
          "name": "stdout",
          "text": [
            "Array A\n",
            "[3 4 1 6 4 4 8]\n",
            "Array B\n",
            "[2 2 5 6 6 3 4]\n",
            "----------------------------\n",
            "Method 1\n",
            "[3 4 5 6 6 4 8]\n",
            "----------------------------\n",
            "Method 2\n",
            "[3 4 5 6 6 4 8]\n"
          ]
        }
      ]
    },
    {
      "cell_type": "code",
      "source": [
        "# Swap columns 1 and 2 in the array arr.\n",
        "# Hint\n",
        "# Desired Output:\n",
        "# [[0 2 1]\n",
        "#  [3 5 4]\n",
        "#  [6 8 7]]\n",
        "\n",
        "\n",
        "arr = np.arange(9).reshape(3,3)\n",
        "print(arr)\n",
        "\n",
        "# Swap columns 1 and 2\n",
        "arr[:, [0, 1]] = arr[:, [1, 0]]\n",
        "\n",
        "print(\"------------------------\")\n",
        "print(\"Cambio de columnas 1 y 2\")\n",
        "print(arr)\n",
        "\n",
        "pass"
      ],
      "metadata": {
        "colab": {
          "base_uri": "https://localhost:8080/"
        },
        "id": "SYqrmHnN_SuD",
        "outputId": "9f53709e-4d0e-4533-bdae-8ddf9395240d"
      },
      "execution_count": 46,
      "outputs": [
        {
          "output_type": "stream",
          "name": "stdout",
          "text": [
            "[[0 1 2]\n",
            " [3 4 5]\n",
            " [6 7 8]]\n",
            "------------------------\n",
            "Cambio de columnas 1 y 2\n",
            "[[1 0 2]\n",
            " [4 3 5]\n",
            " [7 6 8]]\n"
          ]
        }
      ]
    },
    {
      "cell_type": "code",
      "source": [
        "# Create a 2D array of shape 5x3 to contain random decimal numbers between 5 and 10.\n",
        "# Hint\n",
        "# The desired Output should be like the following one:\n",
        "#  [[ 8.50061025  9.10531502  6.85867783]\n",
        "#   [ 9.76262069  9.87717411  7.13466701]\n",
        "#   [ 7.48966403  8.33409158  6.16808631]\n",
        "#   [ 7.75010551  9.94535696  5.27373226]\n",
        "#   [ 8.0850361   5.56165518  7.31244004]]\n",
        "\n",
        "random_array = np.random.uniform(5, 10, size=(5, 3))\n",
        "print(random_array)\n"
      ],
      "metadata": {
        "colab": {
          "base_uri": "https://localhost:8080/"
        },
        "id": "S-IneQEa_Xr5",
        "outputId": "f45124b3-9f25-4c52-eac0-acca04be799a"
      },
      "execution_count": 47,
      "outputs": [
        {
          "output_type": "stream",
          "name": "stdout",
          "text": [
            "[[8.93055899 8.26653862 9.337262  ]\n",
            " [5.52993547 8.89700523 9.40824948]\n",
            " [7.31543943 8.03123008 7.29093248]\n",
            " [6.36894462 6.74569651 8.84341324]\n",
            " [7.82327348 7.77754215 7.725359  ]]\n"
          ]
        }
      ]
    },
    {
      "cell_type": "code",
      "source": [],
      "metadata": {
        "id": "G4TvUgP1_olZ"
      },
      "execution_count": 47,
      "outputs": []
    }
  ]
}